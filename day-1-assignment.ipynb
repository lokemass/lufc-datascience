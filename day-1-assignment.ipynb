{
 "cells": [
  {
   "cell_type": "markdown",
   "metadata": {},
   "source": [
    "# Question 1"
   ]
  },
  {
   "cell_type": "code",
   "execution_count": 1,
   "metadata": {},
   "outputs": [
    {
     "name": "stdout",
     "output_type": "stream",
     "text": [
      "OBANWRI guess the correct english word\n",
      " A.RANIBOW\n",
      " B. RAINBOW\n",
      " C. BOWRANI \n",
      " D. ROBWANI \n",
      " Ans=b\n",
      "Correct\n"
     ]
    }
   ],
   "source": [
    "\n",
    "option=input(\"OBANWRI guess the correct english word\\n A.RANIBOW\\n B. RAINBOW\\n C. BOWRANI \\n D. ROBWANI \\n Ans=\")\n",
    "\n",
    "if(option.lower() == \"b\"): \n",
    "\n",
    "                print(\"Correct\")\n",
    "else:\n",
    "\n",
    "     print(\"Wrong\")"
   ]
  },
  {
   "cell_type": "markdown",
   "metadata": {},
   "source": [
    "# Question 2"
   ]
  },
  {
   "cell_type": "code",
   "execution_count": 2,
   "metadata": {
    "scrolled": true
   },
   "outputs": [
    {
     "name": "stdout",
     "output_type": "stream",
     "text": [
      "LETS UPGRADE\n"
     ]
    }
   ],
   "source": [
    "letter = 'lets upgrade'\n",
    "print(letter.upper())"
   ]
  },
  {
   "cell_type": "markdown",
   "metadata": {},
   "source": [
    "# Question 3"
   ]
  },
  {
   "cell_type": "code",
   "execution_count": 4,
   "metadata": {},
   "outputs": [
    {
     "name": "stdout",
     "output_type": "stream",
     "text": [
      "Enter the cost price:10\n",
      "Enter the selling price:10\n",
      "Neither\n"
     ]
    }
   ],
   "source": [
    "cost = int(input(\"Enter the cost price:\"))\n",
    "sell = int(input(\"Enter the selling price:\"))\n",
    "if(cost>sell):\n",
    "    print(\"Loss\")\n",
    "elif(cost<sell):\n",
    "    print(\"Profit\")\n",
    "\n",
    "else:\n",
    "    print(\"Neither\")\n",
    "    "
   ]
  },
  {
   "cell_type": "markdown",
   "metadata": {},
   "source": [
    "# question 4"
   ]
  },
  {
   "cell_type": "code",
   "execution_count": 6,
   "metadata": {},
   "outputs": [
    {
     "name": "stdout",
     "output_type": "stream",
     "text": [
      "enter the euro:20\n",
      "1600\n"
     ]
    }
   ],
   "source": [
    "euro = int(input(\"enter the euro:\"))\n",
    "\n",
    "print(euro*80)"
   ]
  },
  {
   "cell_type": "code",
   "execution_count": null,
   "metadata": {},
   "outputs": [],
   "source": []
  }
 ],
 "metadata": {
  "kernelspec": {
   "display_name": "Python 3",
   "language": "python",
   "name": "python3"
  },
  "language_info": {
   "codemirror_mode": {
    "name": "ipython",
    "version": 3
   },
   "file_extension": ".py",
   "mimetype": "text/x-python",
   "name": "python",
   "nbconvert_exporter": "python",
   "pygments_lexer": "ipython3",
   "version": "3.7.6"
  }
 },
 "nbformat": 4,
 "nbformat_minor": 4
}
