{
 "cells": [
  {
   "cell_type": "markdown",
   "metadata": {},
   "source": [
    "# Question 1"
   ]
  },
  {
   "cell_type": "code",
   "execution_count": 1,
   "metadata": {},
   "outputs": [
    {
     "name": "stdout",
     "output_type": "stream",
     "text": [
      "Enter 10 number :\n",
      "\n",
      "1\n",
      "2\n",
      "3\n",
      "4\n",
      "5\n",
      "6\n",
      "7\n",
      "8\n",
      "9\n",
      "0\n",
      "[2, 4, 6, 8, 0]\n"
     ]
    }
   ],
   "source": [
    "list = []\n",
    "print(\"Enter 10 number :\\n\")\n",
    "for i in range(10):\n",
    "    temp = int(input())\n",
    "    if(temp % 2 == 0):\n",
    "        list.append(temp)\n",
    "print(list)\n",
    "        "
   ]
  },
  {
   "cell_type": "markdown",
   "metadata": {},
   "source": [
    "# Question 2"
   ]
  },
  {
   "cell_type": "code",
   "execution_count": 2,
   "metadata": {},
   "outputs": [
    {
     "name": "stdout",
     "output_type": "stream",
     "text": [
      "enter bumber of values for list comprehension:8\n",
      "[1, 2, 4, 8, 16, 32, 64, 128]\n"
     ]
    }
   ],
   "source": [
    "n = int(input(\"enter bumber of values for list comprehension:\"))\n",
    "print([2**i for i in range(n)])"
   ]
  },
  {
   "cell_type": "markdown",
   "metadata": {},
   "source": [
    "# Question 3"
   ]
  },
  {
   "cell_type": "code",
   "execution_count": 3,
   "metadata": {},
   "outputs": [
    {
     "name": "stdout",
     "output_type": "stream",
     "text": [
      "Enter a number:8\n",
      "Output\n",
      " {1: 1, 2: 4, 3: 9, 4: 16, 5: 25, 6: 36, 7: 49, 8: 64}\n"
     ]
    }
   ],
   "source": [
    "n = int(input(\"Enter a number:\"))\n",
    "\n",
    "d = {x:x*x for x in range(1,n+1)}\n",
    "\n",
    "print(\"Output\\n\",d)"
   ]
  },
  {
   "cell_type": "markdown",
   "metadata": {},
   "source": [
    "# Question 4 "
   ]
  },
  {
   "cell_type": "code",
   "execution_count": 4,
   "metadata": {},
   "outputs": [
    {
     "name": "stdout",
     "output_type": "stream",
     "text": [
      "Requirement already satisfied: numpy in c:\\users\\lokeshwar\\anaconda3\\lib\\site-packages (1.18.1)\n",
      "Note: you may need to restart the kernel to use updated packages.\n"
     ]
    }
   ],
   "source": [
    "pip install numpy"
   ]
  },
  {
   "cell_type": "code",
   "execution_count": 5,
   "metadata": {},
   "outputs": [
    {
     "name": "stdout",
     "output_type": "stream",
     "text": [
      "no of direction :4\n",
      "UP:5\n",
      "Down:3\n",
      "Left:3\n",
      "Right:2\n",
      "Final Position: ( -1.0 ,  2.0 )\n",
      "2\n"
     ]
    }
   ],
   "source": [
    "import math\n",
    "from numpy import *\n",
    "import numpy as np\n",
    "\n",
    "def finalPosition(move): \n",
    "    l = len(move); \n",
    "    countUp, countDown = 0.0, 0.0; \n",
    "    countLeft, countRight = 0.0, 0.0; \n",
    "  \n",
    "    # traverse the instruction string \n",
    "    # 'move' \n",
    "    for i in range(l): \n",
    "  \n",
    "        # for each movement increment \n",
    "        # its respective counter \n",
    "        if (move[i] == 'U'): \n",
    "            countUp += 1; \n",
    "  \n",
    "        elif(move[i] == 'D'): \n",
    "            countDown += 1; \n",
    "  \n",
    "        elif(move[i] == 'L'): \n",
    "            countLeft += 1; \n",
    "  \n",
    "        elif(move[i] == 'R'): \n",
    "            countRight += 1;\n",
    "    \n",
    "  \n",
    "    # required final position of robot \n",
    "    print(\"Final Position: (\", (countRight - countLeft), \n",
    "            \", \" , (countUp - countDown), \")\");\n",
    "    x = float(countRight - countLeft)\n",
    "    y = float(countUp - countDown)\n",
    "    \n",
    "    ans2 = float()\n",
    "    ans2 = (((x-0)**2) +((y - 0)**2))**0.5\n",
    "    \n",
    "    print(round(ans2))\n",
    "  \n",
    "\n",
    "\n",
    "# Driver program to test above \n",
    "if __name__ == '__main__': \n",
    "    print(\"no of direction :4\")\n",
    "    up = int(input(\"UP:\"))\n",
    "    down = int (input(\"Down:\"))\n",
    "    left = int (input(\"Left:\"))\n",
    "    right = int(input(\"Right:\"))\n",
    "    move = str()\n",
    "   \n",
    "    for i in range(up):\n",
    "        move+='U'\n",
    "    for i in range(down):\n",
    "        move+='D'\n",
    "    for i in range(left):\n",
    "        move+='L'\n",
    "    for i in range(right):\n",
    "        move+='R'\n",
    "    finalPosition(move) \n",
    "    \n"
   ]
  },
  {
   "cell_type": "code",
   "execution_count": 6,
   "metadata": {},
   "outputs": [
    {
     "name": "stdout",
     "output_type": "stream",
     "text": [
      "0\n",
      "1\n",
      "2\n",
      "3\n",
      "4\n"
     ]
    }
   ],
   "source": [
    "for i in range(5):\n",
    "    print(i)"
   ]
  },
  {
   "cell_type": "code",
   "execution_count": null,
   "metadata": {},
   "outputs": [],
   "source": []
  }
 ],
 "metadata": {
  "kernelspec": {
   "display_name": "Python 3",
   "language": "python",
   "name": "python3"
  },
  "language_info": {
   "codemirror_mode": {
    "name": "ipython",
    "version": 3
   },
   "file_extension": ".py",
   "mimetype": "text/x-python",
   "name": "python",
   "nbconvert_exporter": "python",
   "pygments_lexer": "ipython3",
   "version": "3.7.6"
  }
 },
 "nbformat": 4,
 "nbformat_minor": 4
}
